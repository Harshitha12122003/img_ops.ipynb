{
 "cells": [
  {
   "cell_type": "code",
   "execution_count": 1,
   "id": "1cf77eea-f6bc-4db9-8143-9ff5dc863964",
   "metadata": {},
   "outputs": [],
   "source": [
    "import numpy as np\n",
    "import cv2"
   ]
  },
  {
   "cell_type": "markdown",
   "id": "93494e2b-527c-4a37-a39c-6f8782031bf6",
   "metadata": {},
   "source": [
    "#### To create images filled with a single color (like red, green, or blue), we can use NumPy arrays and OpenCV. You can create an image of any size and fill it with a solid color by defining the corresponding values for Red, Green, and Blue channels.\n",
    "\n",
    "#### Below is the code for creating images filled with Red, Green, and Blue colors:"
   ]
  },
  {
   "cell_type": "code",
   "execution_count": null,
   "id": "11064acd-0ebb-456f-a90c-e00b2e08bec1",
   "metadata": {},
   "outputs": [],
   "source": [
    "\n",
    "\n",
    "# Define the image size (height, width)\n",
    "height, width = 400, 400  # You can change the size as needed\n",
    "\n",
    "# Create an image with all zeros (Black) initially\n",
    "image = np.zeros((height, width, 3), dtype=np.uint8)\n",
    "\n",
    "# Create a Red image (Red channel = 255, Green = 0, Blue = 0)\n",
    "red_image = image.copy()\n",
    "red_image[:, :, 2] = 255  # Set the Red channel to 255\n",
    "\n",
    "# Create a Green image (Red = 0, Green channel = 255, Blue = 0)\n",
    "green_image = image.copy()\n",
    "green_image[:, :, 1] = 255  # Set the Green channel to 255\n",
    "\n",
    "# Create a Blue image (Red = 0, Green = 0, Blue channel = 255)\n",
    "blue_image = image.copy()\n",
    "blue_image[:, :, 0] = 255  # Set the Blue channel to 255\n",
    "\n",
    "# Display the images using OpenCV\n",
    "cv2.imshow(\"Red Image\", red_image)  # Red image\n",
    "cv2.imshow(\"Green Image\", green_image)  # Green image\n",
    "cv2.imshow(\"Blue Image\", blue_image)  # Blue image\n",
    "\n",
    "cv2.waitKey()  # Wait for any key press to close the windows\n",
    "cv2.destroyAllWindows()  # Close all OpenCV windows\n"
   ]
  },
  {
   "cell_type": "markdown",
   "id": "6cdd5da4-6033-4952-991d-c92333347c4b",
   "metadata": {},
   "source": [
    "#### To create a Grayscale image filled with a single intensity (ranging from black to white), we can similarly use NumPy to create an image where each pixel has the same intensity value across all channels (since Grayscale images only need a single channel, but OpenCV still handles them as three channels with identical values for Red, Green, and Blue)."
   ]
  },
  {
   "cell_type": "code",
   "execution_count": null,
   "id": "1f1fada6-becb-4363-b82c-ccd0fc204843",
   "metadata": {},
   "outputs": [],
   "source": [
    "height, width = 400, 400\n",
    "\n",
    "# Create a grayscale image with a specific intensity (0 to 255)\n",
    "# Intensity value between 0 (black) and 255 (white)\n",
    "intensity_value = 127  # Change this value to adjust the grayscale intensity\n",
    "\n",
    "# Create an image with all pixel values set to the chosen intensity value\n",
    "gray_image = np.ones((height, width, 3), dtype=np.uint8) * intensity_value\n",
    "cv2.imshow(\"Grayscale Image\", gray_image)  \n",
    "cv2.waitKey()  \n",
    "cv2.destroyAllWindows()  "
   ]
  },
  {
   "cell_type": "markdown",
   "id": "32360c3f-eb56-450c-8b05-dce7f5a76793",
   "metadata": {},
   "source": [
    "### converting img into grayscale"
   ]
  },
  {
   "cell_type": "code",
   "execution_count": null,
   "id": "249772dc-46fc-4f87-a636-0ab440b1f99f",
   "metadata": {},
   "outputs": [],
   "source": [
    "\n",
    "\n",
    "# Step 1: Load the image using imread()\n",
    "image = cv2.imread(r\"C:\\Users\\Harshitha\\dora11.jpg\")  # Replace 'your_image.jpg' with your image path\n",
    "\n",
    "# Step 2: Convert the image to grayscale\n",
    "gray_image = cv2.cvtColor(image, cv2.COLOR_BGR2GRAY)\n",
    "\n",
    "# Step 3: Display the grayscale image using imshow()\n",
    "cv2.imshow(\"Grayscale Image\", gray_image)\n",
    "\n",
    "# Step 4: Wait indefinitely for a key press using waitKey()\n",
    "cv2.waitKey()  # 0 means wait indefinitely for a key press\n",
    "\n",
    "# Step 5: Close all windows after any key is pressed\n",
    "cv2.destroyAllWindows()\n"
   ]
  },
  {
   "cell_type": "code",
   "execution_count": null,
   "id": "5c6b56b7-ce79-4871-9c18-bb0f9905814e",
   "metadata": {},
   "outputs": [],
   "source": []
  },
  {
   "cell_type": "code",
   "execution_count": null,
   "id": "50e125de-774f-4c02-956d-0b59e790d889",
   "metadata": {},
   "outputs": [],
   "source": []
  },
  {
   "cell_type": "code",
   "execution_count": null,
   "id": "b4906179-af42-4204-ae85-4dca55b83899",
   "metadata": {},
   "outputs": [],
   "source": []
  },
  {
   "cell_type": "code",
   "execution_count": null,
   "id": "3be5cdf3-ea1b-4863-89cb-682212c1ea1b",
   "metadata": {},
   "outputs": [],
   "source": []
  },
  {
   "cell_type": "code",
   "execution_count": null,
   "id": "a4ab9d24-820e-457f-ae7a-98b29a30b908",
   "metadata": {},
   "outputs": [],
   "source": []
  },
  {
   "cell_type": "code",
   "execution_count": null,
   "id": "16cbfdb6-cc31-42b7-a4f5-95d97627c271",
   "metadata": {},
   "outputs": [],
   "source": []
  },
  {
   "cell_type": "code",
   "execution_count": null,
   "id": "de4eb276-e524-45d8-bacc-99eedb1e95e1",
   "metadata": {},
   "outputs": [],
   "source": []
  },
  {
   "cell_type": "code",
   "execution_count": null,
   "id": "4f725071-b686-4785-84f3-cf1507b9b0d0",
   "metadata": {},
   "outputs": [],
   "source": []
  },
  {
   "cell_type": "code",
   "execution_count": null,
   "id": "1984a6b8-5c69-4442-966d-fe488fe70a94",
   "metadata": {},
   "outputs": [],
   "source": []
  }
 ],
 "metadata": {
  "kernelspec": {
   "display_name": "Python 3 (ipykernel)",
   "language": "python",
   "name": "python3"
  },
  "language_info": {
   "codemirror_mode": {
    "name": "ipython",
    "version": 3
   },
   "file_extension": ".py",
   "mimetype": "text/x-python",
   "name": "python",
   "nbconvert_exporter": "python",
   "pygments_lexer": "ipython3",
   "version": "3.12.4"
  }
 },
 "nbformat": 4,
 "nbformat_minor": 5
}
